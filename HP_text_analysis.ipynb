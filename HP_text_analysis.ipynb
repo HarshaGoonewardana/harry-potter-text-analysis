{
 "cells": [
  {
   "cell_type": "markdown",
   "metadata": {},
   "source": [
    "This code was originally written in a [Databricks notebook](https://databricks-prod-cloudfront.cloud.databricks.com/public/4027ec902e239c93eaaa8714f173bcfc/8563048060634224/1967636731788758/8718927279103245/latest.html) and exported to a Jupyter Notebook. "
   ]
  },
  {
   "cell_type": "markdown",
   "metadata": {},
   "source": [
    "## Harry Potter Text Analysis"
   ]
  },
  {
   "cell_type": "markdown",
   "metadata": {},
   "source": [
    "Note: This code is licensed under Creative Commons (CC BY-SA).\n",
    "\n",
    "You are free to...:\n",
    "- Share ? copy and redistribute the material in any medium or format\n",
    "- Adapt ? remix, transform, and build upon the material\n",
    "- ...for any purpose, even commercially. \n",
    "\n",
    "For attribution, please link to my blog: https://medium.com/zareen-farooqui"
   ]
  },
  {
   "cell_type": "markdown",
   "metadata": {},
   "source": [
    "Import libraries:"
   ]
  },
  {
   "cell_type": "code",
   "execution_count": 4,
   "metadata": {
    "collapsed": true
   },
   "outputs": [],
   "source": [
    "import io\n",
    "import unicodedata\n",
    "import string\n",
    "from sets import Set\n",
    "from collections import defaultdict\n",
    "import requests\n",
    "import json"
   ]
  },
  {
   "cell_type": "markdown",
   "metadata": {},
   "source": [
    "Import files from S3 into this notebook(only when connecting to a new cluster)."
   ]
  },
  {
   "cell_type": "code",
   "execution_count": 6,
   "metadata": {
    "collapsed": true
   },
   "outputs": [],
   "source": [
    "files2Read = [\"hp1.txt\", \"hp2.txt\", \"hp3.txt\", \"hp4.txt\", \"hp5.txt\", \"hp6.txt\", \"hp7.txt\", \"positive.txt\", \"negative.txt\"]\n",
    "\n",
    "for file in files2Read:\n",
    "  myRDD = sc.textFile(\"dbfs:/mnt/zareenprojects/hp/%s\" % file)\n",
    "  fullTextList = myRDD.collect()\n",
    "\n",
    "  f = open(file,\"w\")\n",
    "  for item in fullTextList:\n",
    "    f.write(\"%s\\n\" % item.encode('utf8'))\n",
    "  f.close()"
   ]
  },
  {
   "cell_type": "markdown",
   "metadata": {},
   "source": [
    "Check that all files are loaded in the notebook. (magic command so it must run in a seperate cell)"
   ]
  },
  {
   "cell_type": "code",
   "execution_count": 8,
   "metadata": {
    "collapsed": true
   },
   "outputs": [],
   "source": [
    "%sh ls -l"
   ]
  },
  {
   "cell_type": "markdown",
   "metadata": {},
   "source": [
    "#### Sentiment Class"
   ]
  },
  {
   "cell_type": "markdown",
   "metadata": {},
   "source": [
    "Make a Sentiment List object for the positive and negative word lists."
   ]
  },
  {
   "cell_type": "code",
   "execution_count": 11,
   "metadata": {
    "collapsed": true
   },
   "outputs": [],
   "source": [
    "class SentimentList():\n",
    "  #open and read file when initializing book object\n",
    "  def __init__(self, file):\n",
    "    self.words = io.open(file, 'rt', encoding='utf-8', newline='\\n').readlines()\n",
    "    self.BoW = []\n",
    "    for line in self.words:\n",
    "      lineStripped= line.rstrip() \n",
    "      # Research: https://stackoverflow.com/questions/8152820/how-to-do-string-formatting-with-unicode-emdash\n",
    "      linedStrippedDashRemoved = lineStripped.replace(u\"\\u2014\", ' ') \n",
    "      lineNormalizedLowered = unicodedata.normalize('NFKD', linedStrippedDashRemoved).encode('ascii','ignore').lower().strip()\n",
    "      lineNoPunc = lineNormalizedLowered.translate(None, string.punctuation).split()\n",
    "      for word in lineNoPunc:\n",
    "        self.BoW.append(word)"
   ]
  },
  {
   "cell_type": "code",
   "execution_count": 12,
   "metadata": {
    "collapsed": true
   },
   "outputs": [],
   "source": [
    "pos_List = SentimentList(\"positive.txt\")\n",
    "neg_List = SentimentList(\"negative.txt\")"
   ]
  },
  {
   "cell_type": "code",
   "execution_count": 13,
   "metadata": {
    "collapsed": true
   },
   "outputs": [],
   "source": [
    "# pass sentiment analyis pos_List.BoW and neg_List.BoW\n",
    "print \"+ : \", pos_List.BoW[0:10]\n",
    "print \"- : \", neg_List.BoW[0:10]"
   ]
  },
  {
   "cell_type": "markdown",
   "metadata": {},
   "source": [
    "#### Book Class"
   ]
  },
  {
   "cell_type": "code",
   "execution_count": 15,
   "metadata": {
    "collapsed": true
   },
   "outputs": [],
   "source": [
    "class Book():\n",
    "  # open and read file when initializing book object\n",
    "  # create empty lists for BoWs, must reset to zero/empty when calling method\n",
    "  def __init__(self, file):\n",
    "    self.book = io.open(file, 'rt', encoding='utf-8', newline='\\n').readlines()\n",
    "    self.BoW, self.BoWnSW = [], []\n",
    "    self.wordCount = []\n",
    "    self.periodCount, self.questionCount, self.exclamationCount = 0, 0, 0\n",
    "    \n",
    "    #make BoW\n",
    "    for line in self.book:    \n",
    "      lineStripped= line.rstrip() \n",
    "      # Research: https://stackoverflow.com/questions/8152820/how-to-do-string-formatting-with-unicode-emdash\n",
    "      linedStrippedDashRemoved = lineStripped.replace(u\"\\u2014\", ' ') \n",
    "      lineNormalizedLowered = unicodedata.normalize('NFKD', linedStrippedDashRemoved).encode('ascii','ignore').lower().strip()\n",
    "      lineNoPunc = lineNormalizedLowered.translate(None, string.punctuation).split()\n",
    "      for word in lineNoPunc:\n",
    "        self.BoW.append(word)\n",
    "        \n",
    "    stopwords = ['a', 'about', 'above', 'across', 'after', 'afterwards', 'again', 'against', 'all', 'almost', 'alone', 'along', 'already', 'also', 'although', 'always', 'am', 'among', 'amongst', 'amoungst', 'amount', 'an', 'and', 'another', 'any', 'anyhow', 'anyone', 'anything', 'anyway', 'anywhere', 'are', 'around', 'as', 'at', 'back', 'be', 'became', 'because', 'become', 'becomes', 'becoming', 'been', 'before', 'beforehand', 'behind', 'being', 'below', 'beside', 'besides', 'between', 'beyond', 'both', 'bottom', 'but', 'by', 'call', 'can', 'cannot', 'cant', 'con', 'could', 'couldnt', 'cry', 'de', 'describe', 'detail', 'do', 'done', 'down', 'due', 'during', 'each', 'eg', 'either', 'else', 'elsewhere', 'empty', 'enough', 'etc', 'even', 'ever', 'every', 'everyone', 'everything', 'everywhere', 'except','few', 'fill', 'find', 'for', 'former', 'formerly', 'found', 'from', 'front', 'full', 'further', 'get', 'give', 'go', 'had', 'has', 'hasnt', 'have', 'he', 'hence', 'her', 'here', 'hereafter', 'hereby', 'herein', 'hereupon', 'hers', 'herself', 'him', 'himself', 'his', 'how', 'however', 'i', 'ie', 'if', 'in', 'inc', 'indeed', 'interest', 'into', 'is', 'it', 'its', 'itself', 'keep', 'last', 'latter', 'latterly', 'least', 'less', 'ltd', 'made', 'many', 'may', 'me', 'meanwhile', 'might', 'mill', 'mine', 'more', 'moreover', 'most', 'mostly', 'move', 'much', 'must', 'my', 'myself', 'namely', 'neither', 'never', 'nevertheless', 'next', 'no', 'nobody', 'none', 'noone', 'nor', 'not', 'nothing', 'now', 'nowhere', 'of', 'off', 'often', 'on', 'once', 'one', 'only', 'onto', 'or', 'other', 'others', 'otherwise','our', 'ours', 'ourselves', 'out', 'over', 'own', 'part', 'per', 'perhaps', 'please', 'put', 'rather', 're', 'same', 'see', 'seem', 'seemed', 'seeming', 'seems', 'serious', 'several', 'she', 'should', 'show', 'since', 'sincere', 'so', 'some', 'somehow', 'someone', 'something', 'sometime', 'sometimes', 'somewhere', 'still', 'such', 'system', 'take', 'than', 'that', 'the', 'their', 'them', 'themselves', 'then', 'thence', 'there', 'thereafter', 'thereby', 'therefore', 'therein', 'thereupon', 'these', 'they', 'this', 'those', 'though', 'through', 'throughout', 'thru', 'thus', 'to', 'together', 'too', 'top', 'toward', 'towards', 'un', 'under', 'until', 'up', 'upon', 'us', 'very', 'via', 'was', 'we', 'well', 'were', 'what', 'whatever', 'when', 'whence', 'whenever', 'where', 'whereafter', 'whereas', 'whereby', 'wherein', 'whereupon', 'wherever', 'whether', 'which', 'while', 'whither', 'who', 'whoever', 'whole', 'whom', 'whose', 'why', 'will', 'with', 'within', 'without', 'would', 'yet', 'you', 'your', 'yours', 'yourself', 'yourselves']      \n",
    "  \n",
    "    #make BoW with no stopwords\n",
    "    for line in self.book:    \n",
    "      lineStripped= line.rstrip() \n",
    "      # Research: https://stackoverflow.com/questions/8152820/how-to-do-string-formatting-with-unicode-emdash\n",
    "      linedStrippedDashRemoved = lineStripped.replace(u\"\\u2014\", ' ') \n",
    "      lineNormalizedLowered = unicodedata.normalize('NFKD', linedStrippedDashRemoved).encode('ascii','ignore').lower().strip()\n",
    "      lineNoPunc = lineNormalizedLowered.translate(None, string.punctuation).split()\n",
    "      for word in lineNoPunc:\n",
    "        if word not in stopwords:\n",
    "            self.BoWnSW.append(word)\n",
    "\n",
    "    #punctuation analysis\n",
    "    punctBoW = []\n",
    "    for line in self.book:    \n",
    "      lineStripped= line.rstrip() \n",
    "      # Research: https://stackoverflow.com/questions/8152820/how-to-do-string-formatting-with-unicode-emdash\n",
    "      linedStrippedDashRemoved = lineStripped.replace(u\"\\u2014\", ' ') \n",
    "      lineNormalizedLowered = unicodedata.normalize('NFKD',linedStrippedDashRemoved).encode('ascii','ignore').lower().strip().split()\n",
    "      for each in lineNormalizedLowered:\n",
    "        punctBoW.append(each)\n",
    "\n",
    "    wordCounter = 0\n",
    "    self.periodLIST, self.questionLIST, self.exclamationLIST = [], [], []\n",
    "\n",
    "    for word in punctBoW:\n",
    "      wordCounter += 1\n",
    "      for char in word:\n",
    "        if char == \".\":\n",
    "          if word[-4:] == \"mr.\" or word[-4:] == \"mrs.\":\n",
    "            continue\n",
    "          elif word[-3:] == \"...\":\n",
    "            continue\n",
    "          elif word[-1:] == '\"':\n",
    "            wordCounter = 0\n",
    "          else:\n",
    "            self.periodCount += 1\n",
    "            self.periodLIST.append(wordCounter)\n",
    "            wordCounter = 0\n",
    "        elif char == \"?\":\n",
    "          self.questionCount += 1\n",
    "          self.questionLIST.append(wordCounter)\n",
    "          wordCounter = 0\n",
    "        elif char == \"!\":\n",
    "          self.exclamationCount += 1\n",
    "          self.exclamationLIST.append(wordCounter)\n",
    "          wordCounter = 0\n",
    "        else:\n",
    "          continue\n",
    "  \n",
    "                               \n",
    "  # copy dictionary into a list and sort by descending values\n",
    "  def copyDictSortDes(self, DictToCopy, length = None):\n",
    "    if length is None:\n",
    "      length = len(DictToCopy) \n",
    "    copy, listToReturn = [], []\n",
    "    for x, y in DictToCopy.items():\n",
    "       copy.append((y,x))\n",
    "    copy = sorted(copy, reverse = True)\n",
    "    for x in copy[0:length]:\n",
    "      listToReturn.append((x[1], x[0]))\n",
    "    return listToReturn \n",
    "  \n",
    "  # sort single words by frequency\n",
    "  def getWordCount(self, listToCount = None):\n",
    "    if listToCount is None:\n",
    "      if not self.BoWnSW:\n",
    "        listToCount = self.BoW\n",
    "      else:\n",
    "        listToCount = self.BoWnSW\n",
    "    wordCount={}\n",
    "    for word in listToCount:\n",
    "      if word not in wordCount:\n",
    "        wordCount[word] = 1\n",
    "      else:\n",
    "        wordCount[word] += 1\n",
    "    self.wordCount = self.copyDictSortDes(wordCount)\n",
    "    \n",
    "  # generate ngrams from one word to 6 words\n",
    "  def getNgram(self, n): \n",
    "    nGram_list = []\n",
    "    if n == 1:\n",
    "      unigram = self.getWordCount(self.BoW)\n",
    "      return self.wordCount\n",
    "    elif n == 2:\n",
    "      nGram_list = zip(self.BoW, self.BoW[1:])\n",
    "    elif n == 3:\n",
    "      nGram_list = zip(self.BoW, self.BoW[1:], self.BoW[2:])\n",
    "    elif n == 4:\n",
    "      nGram_list = zip(self.BoW, self.BoW[1:], self.BoW[2:], self.BoW[3:])\n",
    "    elif n == 5:\n",
    "      nGram_list = zip(self.BoW, self.BoW[1:], self.BoW[2:], self.BoW[3:], self.BoW[4:])\n",
    "    elif n == 6:\n",
    "      nGram_list = zip(self.BoW, self.BoW[1:], self.BoW[2:], self.BoW[3:], self.BoW[4:], self.BoW[5:])\n",
    "    else:\n",
    "      print \"Error: Please enter an n-value from 1 - 6.\"\n",
    "      \n",
    "    nGram_dict = {}\n",
    "    for nGram in nGram_list:\n",
    "      if nGram in nGram_dict:\n",
    "        nGram_dict[nGram] += 1\n",
    "      else:\n",
    "        nGram_dict[nGram] = 1\n",
    "    nGram = self.copyDictSortDes(nGram_dict, 50)\n",
    "    return nGram\n",
    "  \n",
    "  \n",
    "  # returns number of positive and negative words in book and lists out those words\n",
    "  def sentiment(self, pos_List, neg_List):\n",
    "    posCount, negCount = 0, 0\n",
    "    posWordsInBook, negWordsInBook = {}, {}\n",
    "    \n",
    "    listToIterate = []\n",
    "    if not self.BoWnSW:\n",
    "        listToIterate = self.BoW\n",
    "    else:\n",
    "        listToIterate = self.BoWnSW\n",
    "\n",
    "    for word in listToIterate:\n",
    "      if word in pos_List:\n",
    "        posCount += 1\n",
    "        if word not in posWordsInBook:\n",
    "          posWordsInBook[word] = 1\n",
    "        else:\n",
    "          posWordsInBook[word] += 1\n",
    "      elif word in neg_List:\n",
    "        negCount += 1\n",
    "        if word not in negWordsInBook:\n",
    "          negWordsInBook[word] = 1\n",
    "        else:\n",
    "          negWordsInBook[word] += 1\n",
    "      else:\n",
    "        continue\n",
    "\n",
    "    print \"Positive word count is:\", posCount\n",
    "    print \"Negative word count is:\", negCount\n",
    "    print \"The top 30 occuring positive words are: \"\n",
    "    print self.copyDictSortDes(posWordsInBook, 30)\n",
    "    print \"The top 30 occuring negative words are: \"\n",
    "    print self.copyDictSortDes(negWordsInBook, 30)\n",
    "    "
   ]
  },
  {
   "cell_type": "markdown",
   "metadata": {},
   "source": [
    "Make a Book object for each book in the series."
   ]
  },
  {
   "cell_type": "code",
   "execution_count": 17,
   "metadata": {
    "collapsed": true
   },
   "outputs": [],
   "source": [
    "hp1 = Book(\"hp1.txt\")\n",
    "hp2 = Book(\"hp2.txt\")\n",
    "hp3 = Book(\"hp3.txt\")\n",
    "hp4 = Book(\"hp4.txt\")\n",
    "hp5 = Book(\"hp5.txt\")\n",
    "hp6 = Book(\"hp6.txt\")\n",
    "hp7 = Book(\"hp7.txt\")"
   ]
  },
  {
   "cell_type": "markdown",
   "metadata": {},
   "source": [
    "##Word Counts"
   ]
  },
  {
   "cell_type": "markdown",
   "metadata": {},
   "source": [
    "Q) How many total words in each book?"
   ]
  },
  {
   "cell_type": "code",
   "execution_count": 20,
   "metadata": {
    "collapsed": true
   },
   "outputs": [],
   "source": [
    "print \"HP 1: \", len(hp1.BoW)\n",
    "print \"HP 2: \", len(hp2.BoW)\n",
    "print \"HP 3: \", len(hp3.BoW)\n",
    "print \"HP 4: \", len(hp4.BoW)\n",
    "print \"HP 5: \", len(hp5.BoW)\n",
    "print \"HP 6: \", len(hp6.BoW)\n",
    "print \"HP 7: \", len(hp7.BoW)"
   ]
  },
  {
   "cell_type": "markdown",
   "metadata": {},
   "source": [
    "Q)How many unique words in each book? (each word only counted once)"
   ]
  },
  {
   "cell_type": "code",
   "execution_count": 22,
   "metadata": {
    "collapsed": true
   },
   "outputs": [],
   "source": [
    "hp1.getWordCount()\n",
    "print \"HP 1: \", len(hp1.wordCount)\n",
    "hp2.getWordCount()\n",
    "print \"HP 2: \", len(hp2.wordCount)\n",
    "hp3.getWordCount()\n",
    "print \"HP 3: \", len(hp3.wordCount)\n",
    "hp4.getWordCount()\n",
    "print \"HP 4: \", len(hp4.wordCount)\n",
    "hp5.getWordCount()\n",
    "print \"HP 5: \", len(hp5.wordCount)\n",
    "hp6.getWordCount()\n",
    "print \"HP 6: \", len(hp6.wordCount)\n",
    "hp7.getWordCount()\n",
    "print \"HP 7: \", len(hp7.wordCount)"
   ]
  },
  {
   "cell_type": "code",
   "execution_count": 23,
   "metadata": {
    "collapsed": true
   },
   "outputs": [],
   "source": [
    "displayHTML(\"\"\"\n",
    "<html>\n",
    "<head>\n",
    "    \n",
    "    <script type=\"text/javascript\" src=\"https://www.gstatic.com/charts/loader.js\"></script>\n",
    "    <script type=\"text/javascript\">   \n",
    "  \n",
    "    google.charts.load('current', {packages: ['corechart', 'bar']});\n",
    "    google.charts.setOnLoadCallback(drawColColors);\n",
    "    \n",
    "    function drawColColors() {\n",
    "      var data = new google.visualization.DataTable();\n",
    "      data.addColumn('string', 'HP Book');\n",
    "      data.addColumn('number', 'Total Words');\n",
    "      data.addColumn('number', 'Unique Words');\n",
    "\n",
    "      data.addRows([\n",
    "        ['HP1', 77744, 5687],\n",
    "        ['HP2', 85551, 6830],\n",
    "        ['HP3', 107671, 7433],\n",
    "        ['HP4', 191667, 10166],\n",
    "        ['HP5', 256982, 12624],\n",
    "        ['HP6', 169309, 10528],\n",
    "        ['HP7', 197697, 11387],       \n",
    "      ]);  \n",
    "\n",
    "      var options = {\n",
    "        colors: ['#add8e6', '#e6bbad'],\n",
    "      };\n",
    "\n",
    "      var chart = new google.visualization.ColumnChart(document.getElementById('chart_div'));\n",
    "      chart.draw(data, options);\n",
    "    }\n",
    "    \n",
    "    </script>\n",
    "</head>\n",
    "\n",
    " <body>\n",
    "  <div id=\"chart_div\" style=\"width: 900px; height: 500px;\"></div>\n",
    " </body>\n",
    "</html>\n",
    "\"\"\")"
   ]
  },
  {
   "cell_type": "markdown",
   "metadata": {},
   "source": [
    "## Punctuation Analysis"
   ]
  },
  {
   "cell_type": "markdown",
   "metadata": {},
   "source": [
    "Q) How many period marks in each book?"
   ]
  },
  {
   "cell_type": "code",
   "execution_count": 26,
   "metadata": {
    "collapsed": true
   },
   "outputs": [],
   "source": [
    "print \"HP 1: \", hp1.periodCount\n",
    "print \"HP 2: \", hp2.periodCount\n",
    "print \"HP 3: \", hp3.periodCount\n",
    "print \"HP 4: \", hp4.periodCount\n",
    "print \"HP 5: \", hp5.periodCount\n",
    "print \"HP 6: \", hp6.periodCount\n",
    "print \"HP 7: \", hp7.periodCount"
   ]
  },
  {
   "cell_type": "markdown",
   "metadata": {},
   "source": [
    "Q) How long are the average declarative and imperative sentences in each book? (sentences that end with a period mark)"
   ]
  },
  {
   "cell_type": "code",
   "execution_count": 28,
   "metadata": {
    "collapsed": true
   },
   "outputs": [],
   "source": [
    "print \"HP 1: \", sum (hp1.periodLIST)/(len(hp1.periodLIST))\n",
    "print \"HP 2: \", sum (hp2.periodLIST)/(len(hp2.periodLIST))\n",
    "print \"HP 3: \", sum (hp3.periodLIST)/(len(hp3.periodLIST))\n",
    "print \"HP 4: \", sum (hp4.periodLIST)/(len(hp4.periodLIST))\n",
    "print \"HP 5: \", sum (hp5.periodLIST)/(len(hp5.periodLIST))\n",
    "print \"HP 6: \", sum (hp6.periodLIST)/(len(hp6.periodLIST))\n",
    "print \"HP 7: \", sum (hp7.periodLIST)/(len(hp7.periodLIST))"
   ]
  },
  {
   "cell_type": "markdown",
   "metadata": {},
   "source": [
    "Q) How many question marks in each book?"
   ]
  },
  {
   "cell_type": "code",
   "execution_count": 30,
   "metadata": {
    "collapsed": true
   },
   "outputs": [],
   "source": [
    "print \"HP 1: \", hp1.questionCount\n",
    "print \"HP 2: \", hp2.questionCount\n",
    "print \"HP 3: \", hp3.questionCount\n",
    "print \"HP 4: \", hp4.questionCount\n",
    "print \"HP 5: \", hp5.questionCount\n",
    "print \"HP 6: \", hp6.questionCount\n",
    "print \"HP 7: \", hp7.questionCount"
   ]
  },
  {
   "cell_type": "markdown",
   "metadata": {},
   "source": [
    "Q) How long are the average interrogative sentences in each book? (sentences that end with a question mark)"
   ]
  },
  {
   "cell_type": "code",
   "execution_count": 32,
   "metadata": {
    "collapsed": true
   },
   "outputs": [],
   "source": [
    "print \"HP 1: \", sum (hp1.questionLIST)/(len(hp1.questionLIST))\n",
    "print \"HP 2: \", sum (hp2.questionLIST)/(len(hp2.questionLIST))\n",
    "print \"HP 3: \", sum (hp3.questionLIST)/(len(hp3.questionLIST))\n",
    "print \"HP 4: \", sum (hp4.questionLIST)/(len(hp4.questionLIST))\n",
    "print \"HP 5: \", sum (hp5.questionLIST)/(len(hp5.questionLIST))\n",
    "print \"HP 6: \", sum (hp6.questionLIST)/(len(hp6.questionLIST))\n",
    "print \"HP 7: \", sum (hp7.questionLIST)/(len(hp7.questionLIST))"
   ]
  },
  {
   "cell_type": "markdown",
   "metadata": {},
   "source": [
    "Q) How many exclamation marks in each book?"
   ]
  },
  {
   "cell_type": "code",
   "execution_count": 34,
   "metadata": {
    "collapsed": true
   },
   "outputs": [],
   "source": [
    "print \"HP 1: \", hp1.exclamationCount\n",
    "print \"HP 2: \", hp2.exclamationCount\n",
    "print \"HP 3: \", hp3.exclamationCount\n",
    "print \"HP 4: \", hp4.exclamationCount\n",
    "print \"HP 5: \", hp5.exclamationCount\n",
    "print \"HP 6: \", hp6.exclamationCount\n",
    "print \"HP 7: \", hp7.exclamationCount"
   ]
  },
  {
   "cell_type": "markdown",
   "metadata": {},
   "source": [
    "Q) How long are the average exclamatory sentences in each book? (sentences that end with an exclamation mark)"
   ]
  },
  {
   "cell_type": "code",
   "execution_count": 36,
   "metadata": {
    "collapsed": true
   },
   "outputs": [],
   "source": [
    "print \"HP 1: \", sum (hp1.exclamationLIST)/(len(hp1.exclamationLIST))\n",
    "print \"HP 2: \", sum (hp2.exclamationLIST)/(len(hp2.exclamationLIST))\n",
    "print \"HP 3: \", sum (hp3.exclamationLIST)/(len(hp3.exclamationLIST))\n",
    "print \"HP 4: \", sum (hp4.exclamationLIST)/(len(hp4.exclamationLIST))\n",
    "print \"HP 5: \", sum (hp5.exclamationLIST)/(len(hp5.exclamationLIST))\n",
    "print \"HP 6: \", sum (hp6.exclamationLIST)/(len(hp6.exclamationLIST))\n",
    "print \"HP 7: \", sum (hp7.exclamationLIST)/(len(hp7.exclamationLIST))"
   ]
  },
  {
   "cell_type": "code",
   "execution_count": 37,
   "metadata": {
    "collapsed": true
   },
   "outputs": [],
   "source": [
    "displayHTML(\"\"\"\n",
    "<html>\n",
    "<head>\n",
    "    \n",
    "    <script type=\"text/javascript\" src=\"https://www.gstatic.com/charts/loader.js\"></script>\n",
    "    <script type=\"text/javascript\">   \n",
    "  \n",
    "    google.charts.load('current', {packages: ['corechart', 'bar']});\n",
    "    google.charts.setOnLoadCallback(drawColColors);\n",
    "    \n",
    "    function drawColColors() {\n",
    "      var data = new google.visualization.DataTable();\n",
    "      data.addColumn('string', 'HP Book');\n",
    "      data.addColumn('number', 'Period Marks');\n",
    "      data.addColumn('number', 'Question Marks');\n",
    "       data.addColumn('number', 'Exclamation Marks');\n",
    "\n",
    "      data.addRows([\n",
    "        ['HP1', 5190, 759, 478],\n",
    "        ['HP2', 5307, 713, 553],\n",
    "        ['HP3', 6647, 1063, 1039],\n",
    "        ['HP4', 10756, 1820, 1392],\n",
    "        ['HP5', 13596, 2609, 1562],\n",
    "        ['HP6', 8962, 1744, 1057],\n",
    "        ['HP7', 10831, 2125, 1546],\n",
    "        \n",
    "      ]);\n",
    "\n",
    "      var options = {\n",
    "        colors: ['#009d00', '#8000ff', '#ffa500'],\n",
    "      };\n",
    "\n",
    "      var chart = new google.visualization.ColumnChart(document.getElementById('chart_div'));\n",
    "      chart.draw(data, options);\n",
    "    }\n",
    "    \n",
    "    </script>\n",
    "</head>\n",
    "\n",
    " <body>\n",
    "  <div id=\"chart_div\" style=\"width: 900px; height: 500px;\"></div>\n",
    " </body>\n",
    "</html>\n",
    "\"\"\")"
   ]
  },
  {
   "cell_type": "code",
   "execution_count": 38,
   "metadata": {
    "collapsed": true
   },
   "outputs": [],
   "source": [
    "displayHTML(\"\"\"\n",
    "<html>\n",
    "<head>\n",
    "    \n",
    "    <script type=\"text/javascript\" src=\"https://www.gstatic.com/charts/loader.js\"></script>\n",
    "    <script type=\"text/javascript\">   \n",
    "  \n",
    "    google.charts.load('current', {packages: ['corechart', 'bar']});\n",
    "    google.charts.setOnLoadCallback(drawColColors);\n",
    "    \n",
    "    function drawColColors() {\n",
    "      var data = new google.visualization.DataTable();\n",
    "      data.addColumn('string', 'HP Book');\n",
    "      data.addColumn('number', 'Declarative or Imperative Sentences');\n",
    "      data.addColumn('number', 'Interrogative Sentences');\n",
    "       data.addColumn('number', 'Exclamatory Sentences');\n",
    "\n",
    "      data.addRows([\n",
    "        ['HP1', 13, 8, 7],\n",
    "        ['HP2', 14, 8, 8],\n",
    "        ['HP3', 13, 8, 7],\n",
    "        ['HP4', 15, 9, 8],\n",
    "        ['HP5', 15, 9, 10],\n",
    "        ['HP6', 15, 9, 10],\n",
    "        ['HP7', 15, 9, 9],   \n",
    "      ]);\n",
    "      \n",
    "      var options = {\n",
    "        colors:  ['#009d00', '#8000ff', '#ffa500'],\n",
    "          vAxis: {\n",
    "          title: 'Words in Sentence'\n",
    "        }\n",
    "      };\n",
    "\n",
    "      var chart = new google.visualization.ColumnChart(document.getElementById('chart_div'));\n",
    "      chart.draw(data, options);\n",
    "    }\n",
    "    \n",
    "    </script>\n",
    "</head>\n",
    "\n",
    " <body>\n",
    "  <div id=\"chart_div\" style=\"width: 900px; height: 500px;\"></div>\n",
    " </body>\n",
    "</html>\n",
    "\"\"\")"
   ]
  },
  {
   "cell_type": "markdown",
   "metadata": {},
   "source": [
    "##Ngrams"
   ]
  },
  {
   "cell_type": "markdown",
   "metadata": {},
   "source": [
    "Q) What are the top 50 most common Ngrams from bigrams to sixgrams for each book?"
   ]
  },
  {
   "cell_type": "code",
   "execution_count": 41,
   "metadata": {
    "collapsed": true
   },
   "outputs": [],
   "source": [
    "hp1.getNgram(2)"
   ]
  },
  {
   "cell_type": "code",
   "execution_count": 42,
   "metadata": {
    "collapsed": true
   },
   "outputs": [],
   "source": [
    "hp1.getNgram(3)"
   ]
  },
  {
   "cell_type": "code",
   "execution_count": 43,
   "metadata": {
    "collapsed": true
   },
   "outputs": [],
   "source": [
    "hp1.getNgram(4)"
   ]
  },
  {
   "cell_type": "code",
   "execution_count": 44,
   "metadata": {
    "collapsed": true
   },
   "outputs": [],
   "source": [
    "hp1.getNgram(5)"
   ]
  },
  {
   "cell_type": "code",
   "execution_count": 45,
   "metadata": {
    "collapsed": true
   },
   "outputs": [],
   "source": [
    "hp1.getNgram(6)"
   ]
  },
  {
   "cell_type": "code",
   "execution_count": 46,
   "metadata": {
    "collapsed": true
   },
   "outputs": [],
   "source": [
    "hp2.getNgram(2)"
   ]
  },
  {
   "cell_type": "code",
   "execution_count": 47,
   "metadata": {
    "collapsed": true
   },
   "outputs": [],
   "source": [
    "hp2.getNgram(3)"
   ]
  },
  {
   "cell_type": "code",
   "execution_count": 48,
   "metadata": {
    "collapsed": true
   },
   "outputs": [],
   "source": [
    "hp2.getNgram(4)"
   ]
  },
  {
   "cell_type": "code",
   "execution_count": 49,
   "metadata": {
    "collapsed": true
   },
   "outputs": [],
   "source": [
    "hp2.getNgram(5)"
   ]
  },
  {
   "cell_type": "code",
   "execution_count": 50,
   "metadata": {
    "collapsed": true
   },
   "outputs": [],
   "source": [
    "hp2.getNgram(6)"
   ]
  },
  {
   "cell_type": "code",
   "execution_count": 51,
   "metadata": {
    "collapsed": true
   },
   "outputs": [],
   "source": [
    "hp3.getNgram(2)"
   ]
  },
  {
   "cell_type": "code",
   "execution_count": 52,
   "metadata": {
    "collapsed": true
   },
   "outputs": [],
   "source": [
    "hp3.getNgram(3)"
   ]
  },
  {
   "cell_type": "code",
   "execution_count": 53,
   "metadata": {
    "collapsed": true
   },
   "outputs": [],
   "source": [
    "hp3.getNgram(4)"
   ]
  },
  {
   "cell_type": "code",
   "execution_count": 54,
   "metadata": {
    "collapsed": true
   },
   "outputs": [],
   "source": [
    "hp3.getNgram(5)"
   ]
  },
  {
   "cell_type": "code",
   "execution_count": 55,
   "metadata": {
    "collapsed": true
   },
   "outputs": [],
   "source": [
    "hp3.getNgram(6)"
   ]
  },
  {
   "cell_type": "code",
   "execution_count": 56,
   "metadata": {
    "collapsed": true
   },
   "outputs": [],
   "source": [
    "hp4.getNgram(2)"
   ]
  },
  {
   "cell_type": "code",
   "execution_count": 57,
   "metadata": {
    "collapsed": true
   },
   "outputs": [],
   "source": [
    "hp4.getNgram(3)"
   ]
  },
  {
   "cell_type": "code",
   "execution_count": 58,
   "metadata": {
    "collapsed": true
   },
   "outputs": [],
   "source": [
    "hp4.getNgram(4)"
   ]
  },
  {
   "cell_type": "code",
   "execution_count": 59,
   "metadata": {
    "collapsed": true
   },
   "outputs": [],
   "source": [
    "hp4.getNgram(5)"
   ]
  },
  {
   "cell_type": "code",
   "execution_count": 60,
   "metadata": {
    "collapsed": true
   },
   "outputs": [],
   "source": [
    "hp4.getNgram(6)"
   ]
  },
  {
   "cell_type": "code",
   "execution_count": 61,
   "metadata": {
    "collapsed": true
   },
   "outputs": [],
   "source": [
    "hp5.getNgram(2)"
   ]
  },
  {
   "cell_type": "code",
   "execution_count": 62,
   "metadata": {
    "collapsed": true
   },
   "outputs": [],
   "source": [
    "hp5.getNgram(3)"
   ]
  },
  {
   "cell_type": "code",
   "execution_count": 63,
   "metadata": {
    "collapsed": true
   },
   "outputs": [],
   "source": [
    "hp5.getNgram(4)"
   ]
  },
  {
   "cell_type": "code",
   "execution_count": 64,
   "metadata": {
    "collapsed": true
   },
   "outputs": [],
   "source": [
    "hp5.getNgram(5)"
   ]
  },
  {
   "cell_type": "code",
   "execution_count": 65,
   "metadata": {
    "collapsed": true
   },
   "outputs": [],
   "source": [
    "hp5.getNgram(6)"
   ]
  },
  {
   "cell_type": "code",
   "execution_count": 66,
   "metadata": {
    "collapsed": true
   },
   "outputs": [],
   "source": [
    "hp6.getNgram(2)"
   ]
  },
  {
   "cell_type": "code",
   "execution_count": 67,
   "metadata": {
    "collapsed": true
   },
   "outputs": [],
   "source": [
    "hp6.getNgram(3)"
   ]
  },
  {
   "cell_type": "code",
   "execution_count": 68,
   "metadata": {
    "collapsed": true
   },
   "outputs": [],
   "source": [
    "hp6.getNgram(4)"
   ]
  },
  {
   "cell_type": "code",
   "execution_count": 69,
   "metadata": {
    "collapsed": true
   },
   "outputs": [],
   "source": [
    "hp6.getNgram(5)"
   ]
  },
  {
   "cell_type": "code",
   "execution_count": 70,
   "metadata": {
    "collapsed": true
   },
   "outputs": [],
   "source": [
    "hp6.getNgram(6)"
   ]
  },
  {
   "cell_type": "code",
   "execution_count": 71,
   "metadata": {
    "collapsed": true
   },
   "outputs": [],
   "source": [
    "hp7.getNgram(2)"
   ]
  },
  {
   "cell_type": "code",
   "execution_count": 72,
   "metadata": {
    "collapsed": true
   },
   "outputs": [],
   "source": [
    "hp7.getNgram(3)"
   ]
  },
  {
   "cell_type": "code",
   "execution_count": 73,
   "metadata": {
    "collapsed": true
   },
   "outputs": [],
   "source": [
    "hp7.getNgram(4)"
   ]
  },
  {
   "cell_type": "code",
   "execution_count": 74,
   "metadata": {
    "collapsed": true
   },
   "outputs": [],
   "source": [
    "hp7.getNgram(5)"
   ]
  },
  {
   "cell_type": "code",
   "execution_count": 75,
   "metadata": {
    "collapsed": true
   },
   "outputs": [],
   "source": [
    "hp7.getNgram(6)"
   ]
  },
  {
   "cell_type": "code",
   "execution_count": 76,
   "metadata": {
    "collapsed": true
   },
   "outputs": [],
   "source": [
    "displayHTML(\"\"\"\n",
    "  <html>\n",
    "  <head>\n",
    "    <script type=\"text/javascript\" src=\"https://www.gstatic.com/charts/loader.js\"></script>\n",
    "    <script type=\"text/javascript\">\n",
    "      google.charts.load('current', {'packages':['corechart']});\n",
    "      google.charts.setOnLoadCallback(drawChart);\n",
    "\n",
    "      function drawChart() {\n",
    "        var data = google.visualization.arrayToDataTable([\n",
    "          ['Book', 'Harry and Ron', 'Harry and Hermione', 'Ron and Hermione'],\n",
    "          ['HP 1',  36,       13, 32],\n",
    "          ['HP 2',  61,      9, 51],\n",
    "          ['HP 3',  40,        41, 92],\n",
    "          ['HP 4',  61,      14, 125],\n",
    "          ['HP 5',  70,       42, 119],\n",
    "          ['HP 6',  35,       8, 77],\n",
    "          ['HP 7',  24,       20 , 139]\n",
    "        ]);\n",
    "\n",
    "        var options = {\n",
    "          curveType: 'function',\n",
    "          legend: { position: 'top right' }\n",
    "        };\n",
    "\n",
    "        var chart = new google.visualization.LineChart(document.getElementById('curve_chart'));\n",
    "\n",
    "        chart.draw(data, options);\n",
    "      }\n",
    "    </script>\n",
    "  </head>\n",
    "  <body>\n",
    "    <div id=\"curve_chart\" style=\"width: 900px; height: 500px\"></div>\n",
    "  </body>\n",
    "</html>\n",
    "\"\"\")"
   ]
  },
  {
   "cell_type": "code",
   "execution_count": 77,
   "metadata": {
    "collapsed": true
   },
   "outputs": [],
   "source": [
    "displayHTML(\"\"\"\n",
    "  <html>\n",
    "  <head>\n",
    "    <script type=\"text/javascript\" src=\"https://www.gstatic.com/charts/loader.js\"></script>\n",
    "    <script type=\"text/javascript\">\n",
    "      google.charts.load('current', {'packages':['corechart']});\n",
    "      google.charts.setOnLoadCallback(drawChart);\n",
    "\n",
    "      function drawChart() {\n",
    "        var data = google.visualization.arrayToDataTable([\n",
    "          ['Book', 'Defense Against the Dark Arts', 'Potions', 'Transfiguration', 'History of Magic'],\n",
    "          ['HP 1',  3,       15, 5, 4],\n",
    "          ['HP 2',  9,      23, 9, 5],\n",
    "          ['HP 3',  22,        11, 9, 7],\n",
    "          ['HP 4',  14,      17, 11, 6],\n",
    "          ['HP 5',  46,       35, 24, 11],\n",
    "          ['HP 6',  28,       70, 18, 5],\n",
    "          ['HP 7',  4,       5 , 5, 10]\n",
    "        ]);\n",
    "\n",
    "\n",
    "        var options = {\n",
    "          curveType: 'function',\n",
    "          legend: { position: 'top right' }\n",
    "        };\n",
    "\n",
    "        var chart = new google.visualization.LineChart(document.getElementById('curve_chart'));\n",
    "\n",
    "        chart.draw(data, options);\n",
    "      }\n",
    "    </script>\n",
    "  </head>\n",
    "  <body>\n",
    "    <div id=\"curve_chart\" style=\"width: 900px; height: 500px\"></div>\n",
    "  </body>\n",
    "</html>\n",
    "\"\"\")"
   ]
  },
  {
   "cell_type": "code",
   "execution_count": 78,
   "metadata": {
    "collapsed": true
   },
   "outputs": [],
   "source": [
    "displayHTML(\"\"\"\n",
    "  <html>\n",
    "  <head>\n",
    "    <script type=\"text/javascript\" src=\"https://www.gstatic.com/charts/loader.js\"></script>\n",
    "    <script type=\"text/javascript\">\n",
    "      google.charts.load('current', {'packages':['corechart']});\n",
    "      google.charts.setOnLoadCallback(drawChart);\n",
    "\n",
    "      function drawChart() {\n",
    "        var data = google.visualization.arrayToDataTable([\n",
    "          ['Book', 'Hogwarts', 'Diagon Alley', 'Ministry of Magic', 'Hogsmeade'],\n",
    "          ['HP 1',  79,       8, 6, 0],\n",
    "          ['HP 2',  93,      6, 5, 0],\n",
    "          ['HP 3',  92,        11, 25, 61],\n",
    "          ['HP 4',  188,      5, 27, 22],\n",
    "          ['HP 5',  155,       7, 66,  26],\n",
    "          ['HP 6',  135,       13, 16, 27],\n",
    "          ['HP 7',  134,       8 , 7, 12]\n",
    "        ]);\n",
    "\n",
    "\n",
    "        var options = {\n",
    "          curveType: 'function',\n",
    "          legend: { position: 'top right' }\n",
    "        };\n",
    "\n",
    "        var chart = new google.visualization.LineChart(document.getElementById('curve_chart'));\n",
    "\n",
    "        chart.draw(data, options);\n",
    "      }\n",
    "    </script>\n",
    "  </head>\n",
    "  <body>\n",
    "    <div id=\"curve_chart\" style=\"width: 900px; height: 500px\"></div>\n",
    "  </body>\n",
    "</html>\n",
    "\"\"\")"
   ]
  },
  {
   "cell_type": "markdown",
   "metadata": {},
   "source": [
    "##Sentiment Analysis"
   ]
  },
  {
   "cell_type": "code",
   "execution_count": 80,
   "metadata": {
    "collapsed": true
   },
   "outputs": [],
   "source": [
    "print \"hp1 sentiment anaysis: \\n\", hp1.sentiment(pos_List.BoW, neg_List.BoW), \"\\n \\n\"\n",
    "print \"hp2 sentiment anaysis: \\n\", hp2.sentiment(pos_List.BoW, neg_List.BoW), \"\\n \\n\"\n",
    "print \"hp3 sentiment anaysis: \\n\", hp3.sentiment(pos_List.BoW, neg_List.BoW), \"\\n \\n\"\n",
    "print \"hp4 sentiment anaysis: \\n\", hp4.sentiment(pos_List.BoW, neg_List.BoW), \"\\n \\n\"\n",
    "print \"hp5 sentiment anaysis: \\n\", hp5.sentiment(pos_List.BoW, neg_List.BoW), \"\\n \\n\"\n",
    "print \"hp6 sentiment anaysis: \\n\", hp6.sentiment(pos_List.BoW, neg_List.BoW), \"\\n \\n\"\n",
    "print \"hp7 sentiment anaysis: \\n\", hp7.sentiment(pos_List.BoW, neg_List.BoW)"
   ]
  },
  {
   "cell_type": "code",
   "execution_count": 81,
   "metadata": {
    "collapsed": true
   },
   "outputs": [],
   "source": [
    "displayHTML(\"\"\"\n",
    "<html>\n",
    "<head>\n",
    "    \n",
    "    <script type=\"text/javascript\" src=\"https://www.gstatic.com/charts/loader.js\"></script>\n",
    "    <script type=\"text/javascript\">   \n",
    "  \n",
    "    google.charts.load('current', {packages: ['corechart', 'bar']});\n",
    "    google.charts.setOnLoadCallback(drawColColors);\n",
    "    \n",
    "    function drawColColors() {\n",
    "      var data = new google.visualization.DataTable();\n",
    "      data.addColumn('string', 'HP Book');\n",
    "      data.addColumn('number', 'Positive Words');\n",
    "      data.addColumn('number', 'Negative Words');\n",
    "      \n",
    "\n",
    "      data.addRows([\n",
    "        ['HP1', 2161, 2265],\n",
    "        ['HP2', 2561, 2761],\n",
    "        ['HP3', 2981, 3779],\n",
    "        ['HP4', 5665, 6150],\n",
    "        ['HP5', 7312, 8518],\n",
    "        ['HP6', 5204, 5596],\n",
    "        ['HP7', 5616, 6834],\n",
    "        \n",
    "      ]);\n",
    "\n",
    "      var options = {\n",
    "        colors: ['#33ac71', '#ac3533'],\n",
    "        vAxis: {\n",
    "          title: 'Number of words'\n",
    "        }\n",
    "      };\n",
    "\n",
    "      var chart = new google.visualization.ColumnChart(document.getElementById('chart_div'));\n",
    "      chart.draw(data, options);\n",
    "    }\n",
    "    \n",
    "    </script>\n",
    "</head>\n",
    "\n",
    " <body>\n",
    "  <div id=\"chart_div\" style=\"width: 900px; height: 500px;\"></div>\n",
    " </body>\n",
    "</html>\n",
    "\"\"\")"
   ]
  },
  {
   "cell_type": "markdown",
   "metadata": {},
   "source": [
    "## Character Relationship Analysis"
   ]
  },
  {
   "cell_type": "markdown",
   "metadata": {},
   "source": [
    "Populate HP characters from WikiData"
   ]
  },
  {
   "cell_type": "code",
   "execution_count": 84,
   "metadata": {
    "collapsed": true
   },
   "outputs": [],
   "source": [
    "def populateCharacters():\n",
    "  # run query to get all characters from Wikidata API\n",
    "  rawCharLIST = []\n",
    "  hpCharURL = \"https://query.wikidata.org/sparql?query= SELECT DISTINCT ?item ?itemLabel WHERE { {?item wdt:P31 ?sub1 . ?sub1 (wdt:P279|wdt:P131)* wd:Q95074 . ?item wdt:P1080 ?sub2 . ?sub2 (wdt:P279|wdt:P131)* wd:Q5410773 } SERVICE wikibase:label { bd:serviceParam wikibase:language 'en' . }} &format = JSON\"\n",
    "  headers = {\"Accept\" : \"application/json\"}\n",
    "  r = requests.get(hpCharURL, headers=headers)\n",
    "  for each in r.json()['results']['bindings']:\n",
    "    rawCharLIST.append(each['itemLabel']['value']) \n",
    "  \n",
    "  # remove Qcode, and put lower-case names into a list noQcodeChar\n",
    "  noQcodeChar = []\n",
    "  for name in rawCharLIST:\n",
    "    if any(char.isdigit() for char in name) == True:\n",
    "      continue\n",
    "    else:\n",
    "      noQcodeChar.append(name.lower())\n",
    "  \n",
    "  #remove punctuation, create new list hpChar\n",
    "  hpChar = []  \n",
    "  hpChar = [''.join(c for c in s if c not in string.punctuation) for s in noQcodeChar]\n",
    "  return hpChar"
   ]
  },
  {
   "cell_type": "code",
   "execution_count": 85,
   "metadata": {
    "collapsed": true
   },
   "outputs": [],
   "source": [
    "CharNames = populateCharacters()\n",
    "for each in CharNames:\n",
    "  print each"
   ]
  },
  {
   "cell_type": "markdown",
   "metadata": {},
   "source": [
    "#### Character class"
   ]
  },
  {
   "cell_type": "code",
   "execution_count": 87,
   "metadata": {
    "collapsed": true
   },
   "outputs": [],
   "source": [
    "class Character():\n",
    "  def __init__(self, name):\n",
    "    self.wikiName = name\n",
    "\n",
    "    #List of strings of possible nicknames or aliases for each character\n",
    "    #note for revisiting code: make sure to add charName+s (harry, harrys)\n",
    "    self.aliasesLIST = []\n",
    "\n",
    "    #each item key is a specific book (1-7), the value is key all the appearances\n",
    "    #research: http://sopython.com/canon/77/collections-defaultdict-s-first-argument-must-be-callable/\n",
    "    self.appearancesDICT = defaultdict(lambda: [])  \n",
    "    self.relationshipScores2TargetChar = defaultdict(lambda: [])\n",
    "    self.uniqueInstances2TargetChar = defaultdict(lambda: int)\n",
    "    self.allInstances2TargetChar = defaultdict(lambda: int)\n",
    "    \n",
    "    \n",
    "  def getInstances(self, allBoWList):\n",
    "    self.appearancesDICT.clear()\n",
    "    bookNum = 1\n",
    "    for each in allBoWList: \n",
    "      for idx, word in enumerate(each):\n",
    "        if word in self.aliasesLIST:\n",
    "          self.appearancesDICT[bookNum].append(idx)\n",
    "      bookNum += 1\n",
    "\n",
    "  def addName(self, possibleName):\n",
    "    #add/append the name to possibleNamesLIST\n",
    "    self.aliasesLIST.append(possibleName)\n",
    "    "
   ]
  },
  {
   "cell_type": "code",
   "execution_count": 88,
   "metadata": {
    "collapsed": true
   },
   "outputs": [],
   "source": [
    "hpBookList = [hp1.BoW, hp2.BoW, hp3.BoW, hp4.BoW, hp5.BoW, hp6.BoW, hp7.BoW]"
   ]
  },
  {
   "cell_type": "markdown",
   "metadata": {},
   "source": [
    "Make Character objects for analysis"
   ]
  },
  {
   "cell_type": "code",
   "execution_count": 90,
   "metadata": {
    "collapsed": true
   },
   "outputs": [],
   "source": [
    "harry = Character(\"harry potter\")\n",
    "harry.addName(\"harry\")\n",
    "harry.getInstances(hpBookList)\n",
    "\n",
    "ron = Character(\"ron weasley\")\n",
    "ron.addName(\"ron\")\n",
    "ron.getInstances(hpBookList)\n",
    "\n",
    "hermione = Character(\"hermione granger\")\n",
    "hermione.addName(\"hermione\")\n",
    "hermione.getInstances(hpBookList)\n",
    "\n",
    "ginny = Character(\"ginny weasley\")\n",
    "ginny.addName(\"ginny\")\n",
    "ginny.getInstances(hpBookList)\n",
    "\n",
    "dumbledore = Character(\"albus dumbledore\")\n",
    "dumbledore.addName(\"dumbledore\")\n",
    "dumbledore.getInstances(hpBookList)\n",
    "\n",
    "sirius = Character(\"sirius black i\")\n",
    "sirius.addName(\"sirius\")\n",
    "sirius.getInstances(hpBookList)\n",
    "\n",
    "snape = Character(\"severus snape\")\n",
    "snape.addName(\"snape\")\n",
    "snape.getInstances(hpBookList)\n",
    "\n",
    "luna = Character(\"luna lovegood\")\n",
    "luna.addName(\"luna\")\n",
    "luna.getInstances(hpBookList)\n",
    "\n",
    "hagrid = Character(\"rubeus hagrid\")\n",
    "hagrid.addName(\"hagrid\")\n",
    "hagrid.getInstances(hpBookList)\n",
    "\n",
    "dobby = Character(\"dobby\")\n",
    "dobby.addName(\"dobby\")\n",
    "dobby.getInstances(hpBookList)\n",
    "\n",
    "dudley = Character(\"dudley dursley\")\n",
    "dudley.addName(\"dudley\")\n",
    "dudley.getInstances(hpBookList)\n",
    "\n",
    "voldemort = Character(\"tom riddle\")\n",
    "voldemort.addName(\"voldemort\")\n",
    "voldemort.getInstances(hpBookList)"
   ]
  },
  {
   "cell_type": "code",
   "execution_count": 91,
   "metadata": {
    "collapsed": true
   },
   "outputs": [],
   "source": [
    "# george weasley\n",
    "# fred weasley\n",
    "\n",
    "fred = Character(\"fred weasley\")\n",
    "fred.addName(\"fred\")\n",
    "fred.getInstances(hpBookList)\n",
    "\n",
    "george = Character(\"george weasley\")\n",
    "george.addName(\"george\")\n",
    "george.getInstances(hpBookList)"
   ]
  },
  {
   "cell_type": "markdown",
   "metadata": {},
   "source": [
    "Q) How many total times do the character names below appear in throughout the series?"
   ]
  },
  {
   "cell_type": "code",
   "execution_count": 93,
   "metadata": {
    "collapsed": true
   },
   "outputs": [],
   "source": [
    "characters_to_analyze = [harry, ron, hermione, ginny, dumbledore, sirius, snape, luna, hagrid, dobby, dudley, voldemort]\n",
    "\n",
    "def totalAppearances(char_name):\n",
    "  totalAppearances = 0\n",
    "  for each in char_name.appearancesDICT:\n",
    "    totalAppearances = totalAppearances + len(char_name.appearancesDICT[each])\n",
    "\n",
    "  print char_name.aliasesLIST[0], \"appears\",  totalAppearances, \"times.\"\n",
    "  \n",
    "\n",
    "for each in characters_to_analyze:\n",
    "  totalAppearances(each)"
   ]
  },
  {
   "cell_type": "markdown",
   "metadata": {},
   "source": [
    "Determine character relationship from viewpointChar to targetChar for each book."
   ]
  },
  {
   "cell_type": "code",
   "execution_count": 95,
   "metadata": {
    "collapsed": true
   },
   "outputs": [],
   "source": [
    "def charRelationship(viewpointChar, targetChar):\n",
    "  bookNumber = 1\n",
    "  \n",
    "  viewpointChar.relationshipScores2TargetChar[targetChar.wikiName] = []\n",
    "  \n",
    "  while bookNumber < 8:\n",
    "    instances = 0\n",
    "    v2tLIST = []\n",
    "\n",
    "    for ind in viewpointChar.appearancesDICT[bookNumber]:\n",
    "      indlow = ind - 40\n",
    "      indhigh = ind + 40\n",
    "      x=0\n",
    "\n",
    "      for index in targetChar.appearancesDICT[bookNumber]: \n",
    "        x += 1\n",
    "        if (indlow <= index <= indhigh):\n",
    "          instances += 1\n",
    "          v2tLIST.append([ind,index])\n",
    "\n",
    "      upperBound = float(len(viewpointChar.appearancesDICT[bookNumber]))\n",
    "      v2tUniqueSET = Set([])\n",
    "      for each in v2tLIST:\n",
    "        v2tUniqueSET.add(each[0])\n",
    "        \n",
    "\n",
    "    scoreToAppend = \"%.2f\" % ((len(v2tUniqueSET) / upperBound)*100)\n",
    "    #Now add the metrics to the viewpointChar's data structure about his/her relationship to targetChar\n",
    "    viewpointChar.relationshipScores2TargetChar[targetChar.wikiName].append(scoreToAppend)\n",
    "    viewpointChar.uniqueInstances2TargetChar[targetChar.wikiName] = len(v2tUniqueSET)\n",
    "    viewpointChar.allInstances2TargetChar[targetChar.wikiName] = instances\n",
    "    bookNumber += 1\n",
    "    \n"
   ]
  },
  {
   "cell_type": "code",
   "execution_count": 96,
   "metadata": {
    "collapsed": true
   },
   "outputs": [],
   "source": [
    "charRelationship(harry, ron)\n",
    "charRelationship(ron, harry)\n",
    "charRelationship(harry, hermione)\n",
    "charRelationship(hermione, harry)\n",
    "charRelationship(harry, ginny)\n",
    "charRelationship(ginny, harry)\n",
    "charRelationship(harry, dumbledore)\n",
    "charRelationship(dumbledore, harry)\n",
    "charRelationship(harry, sirius)\n",
    "charRelationship(sirius, harry)\n",
    "charRelationship(harry, snape)\n",
    "charRelationship(snape, harry)\n",
    "charRelationship(harry, hagrid)\n",
    "charRelationship(hagrid, harry)\n",
    "charRelationship(harry, dudley)\n",
    "charRelationship(dudley, harry)\n",
    "charRelationship(harry, voldemort)\n",
    "charRelationship(voldemort, harry)"
   ]
  },
  {
   "cell_type": "code",
   "execution_count": 97,
   "metadata": {
    "collapsed": true
   },
   "outputs": [],
   "source": [
    "charRelationship(ron, hermione)\n",
    "charRelationship(hermione, ron)\n",
    "charRelationship(ron, ginny)\n",
    "charRelationship(ginny, ron)\n",
    "charRelationship(hermione, ginny)\n",
    "charRelationship(ginny, hermione)"
   ]
  },
  {
   "cell_type": "code",
   "execution_count": 98,
   "metadata": {
    "collapsed": true
   },
   "outputs": [],
   "source": [
    "charRelationship(fred, george)\n",
    "charRelationship(george, fred)"
   ]
  },
  {
   "cell_type": "markdown",
   "metadata": {},
   "source": [
    "Q) What is Harry's relationship score to other major characters?"
   ]
  },
  {
   "cell_type": "code",
   "execution_count": 100,
   "metadata": {
    "collapsed": true
   },
   "outputs": [],
   "source": [
    "print \"harry to ron\", harry.relationshipScores2TargetChar[ron.wikiName]\n",
    "print \"ron to harry\", ron.relationshipScores2TargetChar[harry.wikiName] \n",
    "print \"harry to hermione\", harry.relationshipScores2TargetChar[hermione.wikiName]\n",
    "print \"hermione to harry\", hermione.relationshipScores2TargetChar[harry.wikiName]\n",
    "print \"harry to ginny\", harry.relationshipScores2TargetChar[ginny.wikiName]\n",
    "print \"ginny to harry\", ginny.relationshipScores2TargetChar[harry.wikiName]\n",
    "print \"harry to dumbledore\", harry.relationshipScores2TargetChar[dumbledore.wikiName]\n",
    "print \"dumbledore to harry\", dumbledore.relationshipScores2TargetChar[harry.wikiName]\n",
    "print \"harry to sirius\", harry.relationshipScores2TargetChar[sirius.wikiName]\n",
    "print \"sirius to harry\", sirius.relationshipScores2TargetChar[harry.wikiName]\n",
    "print \"harry to snape\", harry.relationshipScores2TargetChar[snape.wikiName]\n",
    "print \"snape to harry\", snape.relationshipScores2TargetChar[harry.wikiName]\n",
    "print \"harry to hagrid\", harry.relationshipScores2TargetChar[hagrid.wikiName]\n",
    "print \"hagrid to harry\", hagrid.relationshipScores2TargetChar[harry.wikiName]\n",
    "print \"harry to dudley\", harry.relationshipScores2TargetChar[dudley.wikiName]\n",
    "print \"dudley to harry\", dudley.relationshipScores2TargetChar[harry.wikiName]\n",
    "print \"harry to voldemort\", harry.relationshipScores2TargetChar[voldemort.wikiName]\n",
    "print \"voldemort to harry\", voldemort.relationshipScores2TargetChar[harry.wikiName]"
   ]
  },
  {
   "cell_type": "code",
   "execution_count": 101,
   "metadata": {
    "collapsed": true
   },
   "outputs": [],
   "source": [
    "print \"ron to hermione\", ron.relationshipScores2TargetChar[hermione.wikiName]\n",
    "print \"hermione to ron\", hermione.relationshipScores2TargetChar[ron.wikiName]\n",
    "print \"ron to ginny\", ron.relationshipScores2TargetChar[ginny.wikiName]\n",
    "print \"ginny to ron\", ginny.relationshipScores2TargetChar[ron.wikiName]\n",
    "print \"hermione to ginny\", hermione.relationshipScores2TargetChar[ginny.wikiName]\n",
    "print \"ginny to hermione\", ginny.relationshipScores2TargetChar[hermione.wikiName]\n",
    "print \"fred to george\", fred.relationshipScores2TargetChar[george.wikiName]\n",
    "print \"george to fred\", george.relationshipScores2TargetChar[fred.wikiName]\n"
   ]
  },
  {
   "cell_type": "markdown",
   "metadata": {},
   "source": [
    "Use charRelationship function to determine one overall score for relationship score."
   ]
  },
  {
   "cell_type": "code",
   "execution_count": 103,
   "metadata": {
    "collapsed": true
   },
   "outputs": [],
   "source": [
    "def charRelationshipOverall(viewpointChar, targetChar):\n",
    "  sumScore = 0\n",
    "  for each in viewpointChar.relationshipScores2TargetChar[targetChar.wikiName]:\n",
    "    sumScore = sumScore + float(each)\n",
    "  \n",
    "  overallScore = \"%.2f\" %(sumScore/ 7.0)\n",
    "  return overallScore"
   ]
  },
  {
   "cell_type": "code",
   "execution_count": 104,
   "metadata": {
    "collapsed": true
   },
   "outputs": [],
   "source": [
    "print \"overall harry to ron\",charRelationshipOverall(harry, ron)\n",
    "print \"overall ron to harry\",charRelationshipOverall(ron, harry)\n",
    "print \"overall harry to hermione\",charRelationshipOverall(harry, hermione)\n",
    "print \"overall hermione to harry\",charRelationshipOverall(hermione, harry)\n",
    "print \"overall harry to ginny\",charRelationshipOverall(harry, ginny)\n",
    "print \"overall ginny to harry\",charRelationshipOverall(ginny, harry)\n",
    "print \"overall harry to dumbledore\",charRelationshipOverall(harry, dumbledore)\n",
    "print \"overall dumbledore to harry\",charRelationshipOverall(dumbledore, harry)\n",
    "print \"overall harry to sirius\",charRelationshipOverall(harry, sirius)\n",
    "print \"overall sirius to harry\",charRelationshipOverall(sirius, harry)\n",
    "print \"overall harry to snape\",charRelationshipOverall(harry, snape)\n",
    "print \"overall snape to harry\",charRelationshipOverall(snape, harry)\n",
    "print \"overall harry to hagrid\",charRelationshipOverall(harry, hagrid)\n",
    "print \"overall hagrid to harry\",charRelationshipOverall(hagrid, harry)\n",
    "print \"overall harry to dudley\",charRelationshipOverall(harry, dudley)\n",
    "print \"overall dudley to harry\",charRelationshipOverall(dudley, harry)\n",
    "print \"overall harry to voldemort\",charRelationshipOverall(harry, voldemort)\n",
    "print \"overall voldemort to harry\",charRelationshipOverall(voldemort, harry)\n"
   ]
  }
 ],
 "metadata": {
  "kernelspec": {
   "display_name": "Python 2",
   "language": "python",
   "name": "python2"
  },
  "language_info": {
   "codemirror_mode": {
    "name": "ipython",
    "version": 2
   },
   "file_extension": ".py",
   "mimetype": "text/x-python",
   "name": "python",
   "nbconvert_exporter": "python",
   "pygments_lexer": "ipython2",
   "version": "2.7.11"
  },
  "name": "HP",
  "notebookId": 475127
 },
 "nbformat": 4,
 "nbformat_minor": 0
}
